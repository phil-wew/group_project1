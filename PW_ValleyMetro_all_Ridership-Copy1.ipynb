{
 "cells": [
  {
   "cell_type": "code",
   "execution_count": 5,
   "metadata": {},
   "outputs": [],
   "source": [
    "import matplotlib.pyplot as plt\n",
    "import pandas as pd\n",
    "import numpy as np\n",
    "import requests\n",
    "import time\n",
    "from scipy.stats import linregress\n",
    "from pprint import pprint\n",
    "#from config import am_key\n",
    "from census import Census\n",
    "from us import states\n",
    "\n",
    "# Census API Key\n",
    "from config import api_key\n",
    "\n",
    "\n",
    "c = Census(api_key, year=2018)"
   ]
  },
  {
   "cell_type": "code",
   "execution_count": null,
   "metadata": {},
   "outputs": [],
   "source": [
    "rail_stops = pd.read_csv(r'../CSVs/rail_stops_zipcodes.csv')\n",
    "\n",
    "\n",
    "#rail_stops\n"
   ]
  },
  {
   "cell_type": "code",
   "execution_count": null,
   "metadata": {},
   "outputs": [],
   "source": [
    "census_data"
   ]
  },
  {
   "cell_type": "code",
   "execution_count": null,
   "metadata": {},
   "outputs": [],
   "source": [
    "rail_stops = pd.read_csv(r'../CSVs/rail_stops_zipcodes.csv')\n",
    "bus1 = pd.read_csv(r'../CSVs/filter_bus_1000.csv')\n",
    "bus2 = pd.read_csv(r'../CSVs/new_bus_2.csv')\n",
    "bus3 = pd.read_csv(r'../CSVs/filter_bus_3001-4500.csv')\n",
    "bus4 = pd.read_csv(r'../CSVs/filter_bus_4500-5535.csv')"
   ]
  },
  {
   "cell_type": "code",
   "execution_count": null,
   "metadata": {},
   "outputs": [],
   "source": [
    "all_bus_stops = pd.concat([bus1, bus2, bus3, bus4])"
   ]
  },
  {
   "cell_type": "code",
   "execution_count": null,
   "metadata": {},
   "outputs": [],
   "source": [
    "all_bus_stops.to_csv(r'../PW_CSVs/all_bus_stops.csv')"
   ]
  },
  {
   "cell_type": "code",
   "execution_count": null,
   "metadata": {},
   "outputs": [],
   "source": [
    "\n",
    "#del all_bus_stops['X']\n",
    "#del all_bus_stops['Y']\n",
    "#del all_bus_stops['NoName']\n",
    "#del all_bus_stops['NextRide']\n",
    "#del all_bus_stops['Juris']\n",
    "#del all_bus_stops['WaterFountain']\n",
    "#del all_bus_stops['ADA']\n",
    "#del all_bus_stops['Type']\n",
    "#del all_bus_stops['Column1']\n",
    "#del all_bus_stops['Zipcode']\n",
    "#del all_bus_stops['StreetAddress']\n",
    "#del all_bus_stops['AUTO_UNIQUE_ID_2020-07-28_smavila1_new_bus_2']\n",
    "#del all_bus_stops['OBJECTID']\n",
    "#del all_bus_stops['DateUpdated']\n",
    "#del all_bus_stops['AUTO_UNIQUE_ID_2020-07-27_cceni03_filter_bus3001']\n",
    "#del all_bus_stops['AUTO_UNIQUE_ID_2020-07-28_czc5230_bus_4']\n",
    "#del all_bus_stops['ATIS_ID']\n",
    "#del all_bus_stops['Lat']\n",
    "#del all_bus_stops['Long']\n",
    "#del all_bus_stops['Routes']\n",
    "#del all_bus_stops['Zip']\n",
    "#del all_bus_stops['City']\n",
    "#del all_bus_stops['ComputedZipPlus4']\n",
    "#del all_bus_stops['Column1']\n",
    "#del all_bus_stops['StreetAddress']\n",
    "#del all_bus_stops['Zipcode']\n",
    "#del all_bus_stops['AUTO_UNIQUE_ID_2020-07-28_smavila1_new_bus_2']\n",
    "#del all_bus_stops['OBJECTID']\n",
    "#del all_bus_stops['DateUpdated']\n",
    "#del all_bus_stops['AUTO_UNIQUE_ID_2020-07-27_cceni03_filter_bus3001']\n",
    "#del all_bus_stops['AUTO_UNIQUE_ID_2020-07-28_czc5230_bus_4']\n",
    "#del all_bus_stops['AUTO_UNIQUE_ID_2020-07-27_pwewiora08_filter_bus_1000']\n",
    "#del all_bus_stops['Direction']\n",
    "#del all_bus_stops['State']\n",
    "#del all_bus_stops['Address']\n",
    "#del all_bus_stops['Type_']\n",
    "#del all_bus_stops['UpdatedReverseGeocoding']\n",
    "\n",
    "#del all_bus_stops['TimeTaken']\n",
    "#del all_bus_stops['TransactionId']\n",
    "#del all_bus_stops['Source']\n",
    "#del all_bus_stops['ErrorMessage']\n",
    "#del all_bus_stops['Version']\n",
    "#del all_bus_stops['ComputedAPN']\n"
   ]
  },
  {
   "cell_type": "code",
   "execution_count": null,
   "metadata": {},
   "outputs": [],
   "source": [
    "all_bus_stops"
   ]
  },
  {
   "cell_type": "code",
   "execution_count": null,
   "metadata": {},
   "outputs": [],
   "source": [
    "rail_stops\n",
    "del rail_stops['POINT_X']\n",
    "del rail_stops['POINT_Y']\n",
    "del rail_stops['X']\n",
    "del rail_stops['Y']\n",
    "del rail_stops['NextRide']\n",
    "del rail_stops['Unnamed: 0']\n",
    "del rail_stops['Address']\n",
    "del rail_stops['StationStatus']"
   ]
  },
  {
   "cell_type": "code",
   "execution_count": null,
   "metadata": {},
   "outputs": [],
   "source": [
    "bus_riders = pd.read_csv(r'../CSVs/Valley_Metro_Bus_Ridership.csv')"
   ]
  },
  {
   "cell_type": "code",
   "execution_count": null,
   "metadata": {},
   "outputs": [],
   "source": [
    "#del bus_riders['NoName']\n",
    "#del bus_riders['X']\n",
    "#del bus_riders['Y']\n",
    "#del bus_riders['NextRide_x']\n",
    "#del bus_riders['Location_x']\n",
    "#del bus_riders['WaterFountain']\n",
    "#del bus_riders['ADA']\n",
    "#del bus_riders['Long']\n",
    "#del bus_riders['Lat']\n",
    "#del bus_riders['Direction']\n",
    "#del bus_riders['Photo']\n",
    "#del bus_riders['Routes']\n",
    "#del bus_riders['OBJECTID']\n",
    "\n",
    "#del bus_riders['AUTO_UNIQUE_ID_2020-07-27_pwewiora08_filter_bus_1000']\n",
    "#del bus_riders['UpdatedReverseGeocoding']\n",
    "#del bus_riders['TimeTaken']\n",
    "#del bus_riders['TransactionId']\n",
    "#del bus_riders['Source']\n",
    "#del bus_riders['ErrorMessage']\n",
    "#del bus_riders['NextRide_x']\n",
    "#del bus_riders['UpdatedReverseGeocoding']\n",
    "#del bus_riders['Routes_x']\n",
    "#del bus_riders['ATIS_ID']\n",
    "#del bus_riders['Type_x']\n",
    "#del bus_riders['TimeTaken']\n",
    "#del bus_riders['TransactionId']\n",
    "#del bus_riders['Source']\n",
    "#del bus_riders['AUTO_UNIQUE_ID_2020-07-27_pwewiora08_filter_bus_1000']\n",
    "#del bus_riders['ComputedAPN']\n",
    "#del bus_riders['Version']\n",
    "#del bus_riders['NextRide']\n",
    "#del bus_riders['AUTO_UNIQUE_ID_2020-07-28_czc5230_bus_4_y']\n",
    "#del bus_riders['StreetAddres_y']\n",
    "#del bus_riders['DateUpdated_y']\n",
    "#del bus_riders['ComputedState_x']\n",
    "#del bus_riders['OBJECTID_x']\n",
    "#del bus_riders['OBJECTID_y']\n",
    "#del bus_riders['NextRide_y']\n",
    "#del bus_riders['Routes_y']\n",
    "#del bus_riders['StreetAddress_y']\n",
    "#del bus_riders['Location_y']\n",
    "\n"
   ]
  },
  {
   "cell_type": "code",
   "execution_count": null,
   "metadata": {},
   "outputs": [],
   "source": [
    "bus_riders.to_csv(r'../PW_CSVs/bus_riders.csv')\n",
    "\n",
    "bus_riders"
   ]
  },
  {
   "cell_type": "code",
   "execution_count": null,
   "metadata": {},
   "outputs": [],
   "source": [
    "census_data = c.acs5.get(('B19301_001E', \n",
    "                          'B01003_001E',\"B17001_002E\"), {'for': 'zip code tabulation area:*'})\n",
    "\n",
    "\n",
    "#B19301_001E = Per Capita Income\n",
    "#B01003_001E = total population\n",
    "#\"B17001_002E\" = poverty count"
   ]
  },
  {
   "cell_type": "code",
   "execution_count": null,
   "metadata": {},
   "outputs": [],
   "source": [
    "census_pd = pd.DataFrame(census_data)"
   ]
  },
  {
   "cell_type": "code",
   "execution_count": null,
   "metadata": {},
   "outputs": [],
   "source": [
    "# Column Reordering\n",
    "census_pd = census_pd.rename(columns={\"B19301_001E\" : \"Per Capita Income\",\n",
    "                                      \"B17001_002E\" : \"Poverty Count\",\n",
    "                                      \"B01003_001E\" : \"Population\",\n",
    "                                      \"zip code tabulation area\": \"Zipcode\"})\n",
    "\n",
    "census_pd = census_pd.fillna(0)\n",
    "\n",
    "# Add in Poverty Rate (Poverty Count / Population)\n",
    "census_pd[\"Poverty Rate\"] = 100 * \\\n",
    "    census_pd[\"Poverty Count\"].astype(\n",
    "        int) / census_pd[\"Population\"].astype(int)"
   ]
  },
  {
   "cell_type": "code",
   "execution_count": null,
   "metadata": {},
   "outputs": [],
   "source": [
    "census_pd['Zipcode'] = census_pd['Zipcode'].transform(float)\n",
    "\n",
    "\n",
    "\n",
    "\n"
   ]
  },
  {
   "cell_type": "code",
   "execution_count": null,
   "metadata": {},
   "outputs": [],
   "source": [
    "bus_census = pd.merge(bus_riders, census_pd, how='left', on=['Zipcode'])\n",
    "bus_census.to_csv(r'../PW_CSVs/bus_census.csv')"
   ]
  },
  {
   "cell_type": "code",
   "execution_count": null,
   "metadata": {},
   "outputs": [],
   "source": [
    "bus_census.rename(columns = {'Day_Category': 'Day'}, inplace = True)"
   ]
  },
  {
   "cell_type": "code",
   "execution_count": null,
   "metadata": {},
   "outputs": [],
   "source": [
    "bus_weekday = bus_census.loc[:,'Day'] == 'Weekday'\n",
    "\n",
    "weekday_riders = bus_census[bus_weekday]\n",
    "\n",
    "weekday_riders"
   ]
  },
  {
   "cell_type": "code",
   "execution_count": null,
   "metadata": {},
   "outputs": [],
   "source": [
    "bus_weekend = bus_census.loc[:,'Day'] == 'Weekend'\n",
    "\n",
    "weekend_riders = bus_census[bus_weekend]\n",
    "\n",
    "weekend_riders"
   ]
  },
  {
   "cell_type": "code",
   "execution_count": null,
   "metadata": {},
   "outputs": [],
   "source": [
    "bus_census.groupby(['Zipcode']).count()"
   ]
  },
  {
   "cell_type": "code",
   "execution_count": null,
   "metadata": {},
   "outputs": [],
   "source": [
    "bus_census"
   ]
  },
  {
   "cell_type": "code",
   "execution_count": null,
   "metadata": {},
   "outputs": [],
   "source": [
    "rail_stops"
   ]
  },
  {
   "cell_type": "code",
   "execution_count": null,
   "metadata": {},
   "outputs": [],
   "source": [
    "rail_numbers\n",
    "\n",
    "del rail_numbers['Y']\n",
    "del rail_numbers['X']\n",
    "del rail_numbers['OBJECTID']\n",
    "del rail_numbers['Image']\n",
    "del rail_numbers['Image2']"
   ]
  },
  {
   "cell_type": "code",
   "execution_count": null,
   "metadata": {},
   "outputs": [],
   "source": [
    "rail_numbers.to_csv(r'../PW_CSVs/RidershipDataPortal-1.csv')\n",
    "\n",
    "rail_numbers\n",
    "\n",
    "#rail_numbers.groupby('StationId')\n",
    "\n",
    "#rail_number2= rail_numbers.groupby('StationId')\n",
    "\n",
    "#rail_number2.describe\n",
    "\n",
    "rail_numbers"
   ]
  },
  {
   "cell_type": "code",
   "execution_count": null,
   "metadata": {},
   "outputs": [],
   "source": [
    "rail_numbers.groupby('StationName')\n",
    "\n",
    "rail_numbers"
   ]
  },
  {
   "cell_type": "code",
   "execution_count": null,
   "metadata": {},
   "outputs": [],
   "source": [
    "rail_stops"
   ]
  },
  {
   "cell_type": "code",
   "execution_count": null,
   "metadata": {},
   "outputs": [],
   "source": [
    "lightrail = pd.merge(rail_stops, rail_numbers, on=['StationId'])"
   ]
  },
  {
   "cell_type": "code",
   "execution_count": null,
   "metadata": {},
   "outputs": [],
   "source": [
    "lightrail"
   ]
  },
  {
   "cell_type": "code",
   "execution_count": null,
   "metadata": {},
   "outputs": [],
   "source": []
  }
 ],
 "metadata": {
  "kernelspec": {
   "display_name": "Python 3",
   "language": "python",
   "name": "python3"
  },
  "language_info": {
   "codemirror_mode": {
    "name": "ipython",
    "version": 3
   },
   "file_extension": ".py",
   "mimetype": "text/x-python",
   "name": "python",
   "nbconvert_exporter": "python",
   "pygments_lexer": "ipython3",
   "version": "3.7.6"
  }
 },
 "nbformat": 4,
 "nbformat_minor": 4
}
