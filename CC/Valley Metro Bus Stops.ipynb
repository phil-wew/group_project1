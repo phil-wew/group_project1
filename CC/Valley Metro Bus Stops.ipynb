{
 "cells": [
  {
   "cell_type": "code",
   "execution_count": null,
   "metadata": {},
   "outputs": [],
   "source": [
    "import os\n",
    "import matplotlib.pyplot as plt\n",
    "import pandas as pd\n",
    "import numpy as np\n",
    "import requests\n",
    "import time\n",
    "from scipy.stats import linregress"
   ]
  },
  {
   "cell_type": "code",
   "execution_count": null,
   "metadata": {},
   "outputs": [],
   "source": [
    "# Import CSV\n",
    "rail_stops = pd.read_csv(r'../CSVs/Valley_Metro_Light_Rail_Stations_View.csv')"
   ]
  },
  {
   "cell_type": "code",
   "execution_count": null,
   "metadata": {},
   "outputs": [],
   "source": [
    "rail_stops\n",
    "del rail_stops['TVM'] \n",
    "del rail_stops['Image']     \n",
    "del rail_stops['Image2']  \n",
    "del rail_stops['BikeRacks'] \n",
    "del rail_stops['WaterFountain'] \n",
    "del rail_stops['Restroom'] \n",
    "del rail_stops['InfoDisplay'] \n",
    "del rail_stops['Em_Call']\n",
    "del rail_stops['Bench'] \n",
    "del rail_stops['TrashCan']"
   ]
  },
  {
   "cell_type": "code",
   "execution_count": null,
   "metadata": {},
   "outputs": [],
   "source": [
    "rail_stops = rail_stops.loc[rail_stops[\"StationStatus\"] == 'In Operation']"
   ]
  },
  {
   "cell_type": "code",
   "execution_count": null,
   "metadata": {},
   "outputs": [],
   "source": [
    "rail_stops"
   ]
  },
  {
   "cell_type": "code",
   "execution_count": null,
   "metadata": {},
   "outputs": [],
   "source": [
    "url = 'https://geoservices.tamu.edu/Services/ReverseGeocoding/WebService/v04_01/Rest/?'\n",
    "version = 4.1\n",
    "query_url = f\"{url}apiKey={am_key}&version=4.10&format=json&state=az&notStore=false\"\n",
    "\n",
    "\n",
    "zipcode = []\n",
    "city = []\n",
    "address = []\n",
    "\n",
    "\n",
    "for index,row in bus_stops.iterrows():\n",
    "    query_api = query_url+'&lat='+str(row['Y'])+'&lon='+str(row['X'])\n",
    "    response = requests.get(query_api).json()  \n",
    "    zipcode.append(response['StreetAddresses'][0]['Zip'])\n",
    "    city.append(response['StreetAddresses'][0]['City'])\n",
    "    address.append(response['StreetAddresses'][0]['StreetAddress'])"
   ]
  },
  {
   "cell_type": "code",
   "execution_count": null,
   "metadata": {},
   "outputs": [],
   "source": [
    "url = 'https://geoservices.tamu.edu/Services/ReverseGeocoding/WebService/v04_01/Rest/?'\n",
    "version = 4.1\n",
    "query_url = f\"{url}apiKey={am_key}&version=4.10&format=json&state=az&notStore=false\"\n",
    "\n",
    "bus_zipcode = []\n",
    "city2 = []\n",
    "address = []\n",
    "\n",
    "\n",
    "for index,row in bus_stops.iterrows():\n",
    "    query_api = query_url+'&lat='+str(row['Y'])+'&lon='+str(row['X'])\n",
    "    response = requests.get(query_api).json()  \n",
    "    zipcode.append(response['StreetAddresses'][0]['Zip'])\n",
    "    city.append(response['StreetAddresses'][0]['City'])\n",
    "    address.append(response['StreetAddresses'][0]['StreetAddress'])"
   ]
  },
  {
   "cell_type": "code",
   "execution_count": null,
   "metadata": {},
   "outputs": [],
   "source": [
    "rail_stops['Zipcode'] = zipcode\n",
    "rail_stops"
   ]
  },
  {
   "cell_type": "code",
   "execution_count": null,
   "metadata": {},
   "outputs": [],
   "source": [
    "del rail_stops['OBJECTID']"
   ]
  },
  {
   "cell_type": "code",
   "execution_count": null,
   "metadata": {},
   "outputs": [],
   "source": [
    "bus_stops = pd.read_csv(r'../CSVs/Valley_Metro_Bus_Stops_View_UPDATED.csv')\n",
    " \n",
    "filter_bus = bus_stops.loc[(bus_stops['Juris'] == 'Mesa') | (bus_stops['Juris'] == 'Phoenix') | (bus_stops['Juris'] == 'Tempe'), :]"
   ]
  },
  {
   "cell_type": "code",
   "execution_count": null,
   "metadata": {},
   "outputs": [],
   "source": [
    "filter_bus"
   ]
  },
  {
   "cell_type": "code",
   "execution_count": null,
   "metadata": {},
   "outputs": [],
   "source": [
    "filter_bus.to_csv(r'../CSVs/filter_bus.csv')"
   ]
  },
  {
   "cell_type": "code",
   "execution_count": null,
   "metadata": {},
   "outputs": [],
   "source": [
    "first_bus = filter_bus.iloc[3001:4500]"
   ]
  },
  {
   "cell_type": "code",
   "execution_count": null,
   "metadata": {},
   "outputs": [],
   "source": [
    "first_bus"
   ]
  },
  {
   "cell_type": "code",
   "execution_count": null,
   "metadata": {},
   "outputs": [],
   "source": [
    "census_data = c.acs5.get((\"NAME\", \"B01002_001E\", \"B01003_001E\", \"B08136_007E\", \n",
    "                          \"B08301_010E\"), {'for': 'zip code tabulation area:*'})"
   ]
  },
  {
   "cell_type": "code",
   "execution_count": null,
   "metadata": {},
   "outputs": [],
   "source": [
    "census_pd = pd.DataFrame(census_data)"
   ]
  },
  {
   "cell_type": "code",
   "execution_count": null,
   "metadata": {},
   "outputs": [],
   "source": [
    "census_pd = census_pd.rename(columns={\"B01002_001E\": \"Median Age\",\n",
    "                                      \"B01003_001E\": \"Population\",\n",
    "                                      \"B08136_007E\": \"Commute Time on Public Transportation\",\n",
    "                                      \"B08301_010E\": \"Public Transportation Use\",\n",
    "                                      \"NAME\": \"Name\", \"zip code tabulation area\": \"Zipcode\"})\n"
   ]
  },
  {
   "cell_type": "code",
   "execution_count": null,
   "metadata": {},
   "outputs": [],
   "source": []
  }
 ],
 "metadata": {
  "kernelspec": {
   "display_name": "Python 3",
   "language": "python",
   "name": "python3"
  },
  "language_info": {
   "codemirror_mode": {
    "name": "ipython",
    "version": 3
   },
   "file_extension": ".py",
   "mimetype": "text/x-python",
   "name": "python",
   "nbconvert_exporter": "python",
   "pygments_lexer": "ipython3",
   "version": "3.7.6"
  }
 },
 "nbformat": 4,
 "nbformat_minor": 4
}
