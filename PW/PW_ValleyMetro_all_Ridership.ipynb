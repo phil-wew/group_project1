{
 "cells": [
  {
   "cell_type": "code",
   "execution_count": 1,
   "metadata": {},
   "outputs": [
    {
     "ename": "ModuleNotFoundError",
     "evalue": "No module named 'census'",
     "output_type": "error",
     "traceback": [
      "\u001b[0;31m---------------------------------------------------------------------------\u001b[0m",
      "\u001b[0;31mModuleNotFoundError\u001b[0m                       Traceback (most recent call last)",
      "\u001b[0;32m<ipython-input-1-99e63a6f6598>\u001b[0m in \u001b[0;36m<module>\u001b[0;34m\u001b[0m\n\u001b[1;32m      7\u001b[0m \u001b[0;32mfrom\u001b[0m \u001b[0mpprint\u001b[0m \u001b[0;32mimport\u001b[0m \u001b[0mpprint\u001b[0m\u001b[0;34m\u001b[0m\u001b[0;34m\u001b[0m\u001b[0m\n\u001b[1;32m      8\u001b[0m \u001b[0;32mfrom\u001b[0m \u001b[0mconfig\u001b[0m \u001b[0;32mimport\u001b[0m \u001b[0mam_key\u001b[0m\u001b[0;34m\u001b[0m\u001b[0;34m\u001b[0m\u001b[0m\n\u001b[0;32m----> 9\u001b[0;31m \u001b[0;32mfrom\u001b[0m \u001b[0mcensus\u001b[0m \u001b[0;32mimport\u001b[0m \u001b[0mCensus\u001b[0m\u001b[0;34m\u001b[0m\u001b[0;34m\u001b[0m\u001b[0m\n\u001b[0m\u001b[1;32m     10\u001b[0m \u001b[0;32mfrom\u001b[0m \u001b[0mus\u001b[0m \u001b[0;32mimport\u001b[0m \u001b[0mstates\u001b[0m\u001b[0;34m\u001b[0m\u001b[0;34m\u001b[0m\u001b[0m\n\u001b[1;32m     11\u001b[0m \u001b[0;34m\u001b[0m\u001b[0m\n",
      "\u001b[0;31mModuleNotFoundError\u001b[0m: No module named 'census'"
     ]
    }
   ],
   "source": [
    "import matplotlib.pyplot as plt\n",
    "import pandas as pd\n",
    "import numpy as np\n",
    "import requests\n",
    "import time\n",
    "from scipy.stats import linregress\n",
    "from pprint import pprint\n",
    "from config import am_key\n",
    "from census import Census\n",
    "from us import states\n",
    "\n",
    "# Census API Key\n",
    "from config import c_key\n",
    "\n",
    "\n",
    "c = Census(c_key, year=2018)"
   ]
  },
  {
   "cell_type": "code",
   "execution_count": null,
   "metadata": {},
   "outputs": [],
   "source": [
    "#Read in 4 parts of bus data csv\n",
    "\n",
    "bus1 = pd.read_csv(r'../CSVs/filter_bus_1000.csv')\n",
    "bus2 = pd.read_csv(r'../CSVs/new_bus_2.csv')\n",
    "bus3 = pd.read_csv(r'../CSVs/filter_bus_3001-4500.csv')\n",
    "bus4 = pd.read_csv(r'../CSVs/filter_bus_4500-5535.csv')"
   ]
  },
  {
   "cell_type": "code",
   "execution_count": null,
   "metadata": {},
   "outputs": [],
   "source": [
    "#concat 4 csvs into 1 df with zipcodes and all bus stops\n",
    "all_bus_stops = pd.concat([bus1, bus2, bus3, bus4])"
   ]
  },
  {
   "cell_type": "code",
   "execution_count": null,
   "metadata": {},
   "outputs": [],
   "source": [
    "#delete unnecessary columns\n",
    "del all_bus_stops['Zipcode']\n",
    "del all_bus_stops['X']\n",
    "del all_bus_stops['Y']\n",
    "del all_bus_stops['NoName']\n",
    "del all_bus_stops['NextRide']\n",
    "del all_bus_stops['Juris']\n",
    "del all_bus_stops['WaterFountain']\n",
    "del all_bus_stops['ADA']\n",
    "del all_bus_stops['ATIS_ID']\n",
    "del all_bus_stops['Lat']\n",
    "del all_bus_stops['Long']\n",
    "del all_bus_stops['Routes']\n",
    "del all_bus_stops['Zip']\n",
    "del all_bus_stops['City']\n",
    "del all_bus_stops['ComputedZipPlus4']\n",
    "del all_bus_stops['Column1']\n",
    "del all_bus_stops['StreetAddress']\n",
    "\n",
    "del all_bus_stops['AUTO_UNIQUE_ID_2020-07-28_smavila1_new_bus_2']\n",
    "del all_bus_stops['OBJECTID']\n",
    "del all_bus_stops['DateUpdated']\n",
    "del all_bus_stops['AUTO_UNIQUE_ID_2020-07-27_cceni03_filter_bus3001']\n",
    "del all_bus_stops['AUTO_UNIQUE_ID_2020-07-28_czc5230_bus_4']\n",
    "del all_bus_stops['AUTO_UNIQUE_ID_2020-07-27_pwewiora08_filter_bus_1000']\n",
    "del all_bus_stops['Direction']\n",
    "del all_bus_stops['State']\n",
    "del all_bus_stops['Address']\n",
    "del all_bus_stops['Type_']\n",
    "\n",
    "del all_bus_stops['UpdatedReverseGeocoding']\n",
    "\n",
    "del all_bus_stops['TimeTaken']\n",
    "del all_bus_stops['TransactionId']\n",
    "del all_bus_stops['Source']\n",
    "del all_bus_stops['ErrorMessage']\n",
    "del all_bus_stops['Version']\n",
    "del all_bus_stops['ComputedAPN']\n"
   ]
  },
  {
   "cell_type": "code",
   "execution_count": null,
   "metadata": {},
   "outputs": [],
   "source": [
    "#clean up & save new csv\n",
    "all_bus_stops = all_bus_stops.rename(columns ={'ComputedZip':'Zipcode'})\n",
    "\n",
    "all_bus_stops.to_csv(r'../PW_CSVs/all_bus_stops.csv')\n",
    "\n",
    "all_bus_stops"
   ]
  },
  {
   "cell_type": "code",
   "execution_count": null,
   "metadata": {},
   "outputs": [],
   "source": [
    "#read in CSV with ridership data\n",
    "bus_riders = pd.read_csv(r'../CSVs/Valley_Metro_Bus_Ridership.csv')\n",
    "\n",
    "#merge with bus stop df that has zipcodes\n",
    "bus_riders = pd.merge(bus_riders, all_bus_stops, how = 'left', on = 'StopID')"
   ]
  },
  {
   "cell_type": "code",
   "execution_count": null,
   "metadata": {},
   "outputs": [],
   "source": [
    "#delete unnecessary columns\n",
    "del bus_riders['Location_x']\n",
    "\n",
    "del bus_riders['Photo']\n",
    "del bus_riders['Routes']\n",
    "del bus_riders['OBJECTID']\n",
    "\n",
    "\n",
    "del bus_riders['NextRide']\n",
    "del bus_riders['Location_y']\n",
    "\n"
   ]
  },
  {
   "cell_type": "code",
   "execution_count": null,
   "metadata": {},
   "outputs": [],
   "source": [
    "#save csv\n",
    "bus_riders.to_csv(r'../PW_CSVs/bus_riders.csv')\n",
    "\n",
    "bus_riders"
   ]
  },
  {
   "cell_type": "code",
   "execution_count": null,
   "metadata": {},
   "outputs": [],
   "source": [
    "#run census API\n",
    "census_data = c.acs5.get(('B19301_001E', \n",
    "                          'B01003_001E',\"B17001_002E\"), {'for': 'zip code tabulation area:*'})\n",
    "\n",
    "census_pd = pd.DataFrame(census_data)\n",
    "\n",
    "#B19301_001E = Per Capita Income\n",
    "#B01003_001E = total population\n",
    "#B17001_002E = poverty count"
   ]
  },
  {
   "cell_type": "code",
   "execution_count": null,
   "metadata": {},
   "outputs": [],
   "source": [
    "# Column Renaming\n",
    "census_pd = census_pd.rename(columns={\"B19301_001E\" : \"Per Capita Income\",\n",
    "                                      \"B17001_002E\" : \"Poverty Count\",\n",
    "                                      \"B01003_001E\" : \"Population\",\n",
    "                                      \"zip code tabulation area\": \"Zipcode\"})\n",
    "#remove NAN\n",
    "census_pd = census_pd.fillna(0)\n",
    "\n",
    "# Add in Poverty Rate (Poverty Count / Population)\n",
    "census_pd[\"Poverty Rate\"] = 100 * \\\n",
    "    census_pd[\"Poverty Count\"].astype(\n",
    "        int) / census_pd[\"Population\"].astype(int)\n",
    "\n",
    "#convert data types to be able to merge these two dfs \n",
    "census_pd['Zipcode'] = census_pd['Zipcode'].transform(float)\n",
    "\n",
    "bus_riders['Zipcode']= pd.to_numeric(bus_riders['Zipcode'], errors='coerce').fillna(0).astype(float)\n"
   ]
  },
  {
   "cell_type": "code",
   "execution_count": null,
   "metadata": {},
   "outputs": [],
   "source": [
    "#merge census data with bus ridership and bus stop data.\n",
    "bus_census = pd.merge(bus_riders, census_pd, how='left', on=['Zipcode'])\n",
    "bus_census.to_csv(r'../PW_CSVs/bus_census.csv')\n",
    "bus_census.rename(columns = {'Day_Category': 'Day'}, inplace = True)\n",
    "\n",
    "#cleaning up dataset\n",
    "del bus_census['Q2016_2']\n",
    "del bus_census['Q2016_3']\n",
    "del bus_census['Q2016_4']\n",
    "del bus_census['Q2017_1']\n",
    "del bus_census['Q2017_2']\n",
    "del bus_census['Q2017_3']\n",
    "del bus_census['Q2017_4']\n",
    "del bus_census['Q2019_1']\n",
    "del bus_census['Q2019_2']\n"
   ]
  },
  {
   "cell_type": "code",
   "execution_count": null,
   "metadata": {},
   "outputs": [],
   "source": [
    "bus_census"
   ]
  },
  {
   "cell_type": "code",
   "execution_count": null,
   "metadata": {},
   "outputs": [],
   "source": [
    "#narrow datasat to just Phoenix jurisdiction and within the city of phoenix\n",
    "phx_j = bus_census.loc[:,'Juris'] == 'Phoenix'\n",
    "\n",
    "phx_juris = bus_census[phx_j]\n",
    "\n",
    "phx_city = phx_juris.loc[:,'ComputedCity'] == 'Phoenix'\n",
    "phx_bus = phx_juris[phx_city]"
   ]
  },
  {
   "cell_type": "code",
   "execution_count": null,
   "metadata": {},
   "outputs": [],
   "source": [
    "#narrow dataset to just weekday averages.\n",
    "#bus_weekday = phx_bus.loc[:,'Day'] == 'Weekday'\n",
    "\n",
    "#weekday_riders = phx_bus[bus_weekday]\n",
    "\n",
    "#weekday_riders"
   ]
  },
  {
   "cell_type": "code",
   "execution_count": null,
   "metadata": {},
   "outputs": [],
   "source": [
    "#narrow dataset to just weekend ridership\n",
    "#bus_weekend = phx_bus.loc[:,'Day'] == 'Weekend'\n",
    "\n",
    "#weekend_riders = phx_bus[bus_weekend]\n",
    "\n",
    "#weekend_riders"
   ]
  },
  {
   "cell_type": "code",
   "execution_count": null,
   "metadata": {},
   "outputs": [],
   "source": [
    "#find average ridership for 2018 from the 4 quarters.\n",
    "phx2018columns = ['Q2018_12', 'Q22018_2', 'Q2018_3', 'Q42018']\n",
    "\n",
    "phx2018 = phx_bus.reindex(columns = phx2018columns)\n"
   ]
  },
  {
   "cell_type": "code",
   "execution_count": null,
   "metadata": {},
   "outputs": [],
   "source": [
    "#take the mean of 2018 instead of using 4 quarters and create new column with this data.\n",
    "df = phx2018.mean(axis=1)\n",
    "df\n",
    "phx_bus['2018'] = df\n",
    "del phx_bus['Q2018_12']\n",
    "del phx_bus['Q2018_2']\n",
    "del phx_bus['Q2018_3']\n",
    "del phx_bus['Q42018']\n",
    "\n",
    "phx_bus\n"
   ]
  },
  {
   "cell_type": "code",
   "execution_count": null,
   "metadata": {},
   "outputs": [],
   "source": [
    "#save new csv\n",
    "phx_bus.rename(columns ={'2018': 'Mean Daily Riders 2018'})\n",
    "phx_bus.to_csv(r'../PW_CSVs/phx_bus.csv')"
   ]
  },
  {
   "cell_type": "code",
   "execution_count": null,
   "metadata": {},
   "outputs": [],
   "source": [
    "#filter for just weekday ridership\n",
    "bus_weekday = phx_bus.loc[:,'Day'] == 'Weekday'\n",
    "\n",
    "weekday_riders = phx_bus[bus_weekday]\n",
    "\n",
    "weekday_riders\n",
    "\n",
    "#filter for just weekend ridership\n",
    "bus_weekend = phx_bus.loc[:,'Day'] == 'Weekend'\n",
    "\n",
    "weekend_riders = phx_bus[bus_weekend]\n",
    "\n",
    "del weekend_riders ['Poverty Count']\n",
    "weekend_riders"
   ]
  },
  {
   "cell_type": "code",
   "execution_count": null,
   "metadata": {},
   "outputs": [],
   "source": [
    "#group data by zipcode and provide agg to analyze by zipcode\n",
    "weekday_bus = weekday_riders.drop_duplicates( subset='StopID', keep=\"first\", inplace=False)\n",
    "\n",
    "weekday_bus\n",
    "\n",
    "weekday = weekday_bus.groupby('Zipcode').agg({\n",
    "    'StopID':'count',\n",
    "    'ComputedStreetAddress':'count',\n",
    "    'ComputedCity':'first',\n",
    "    'Juris':'first',\n",
    "    'Day':'first',\n",
    "    'Per Capita Income': 'mean',\n",
    "    'Population': 'first',\n",
    "    'Poverty Rate': 'first',\n",
    "    '2018':'mean'\n",
    "})\n",
    "\n",
    "\n",
    "\n",
    "weekday\n",
    "\n",
    "#weekday poverty rate by ridership numbers\n",
    "plt.scatter(weekday['2018'],weekday['Poverty Rate'], marker=\"o\", facecolors=\"violet\", edgecolors=\"black\",\n",
    "            alpha=0.75)\n",
    "\n",
    "plt.title(\"Poverty Rate - Avg Daily Ridership (Weekdays)\")\n",
    "plt.xlabel(\"Daily Riders\")\n",
    "plt.ylabel(\"Poverty Rate\")\n",
    "\n",
    "# Run linear regression\n",
    "(slope, intercept, rvalue, pvalue, stderr) = linregress(weekday['2018'], weekday['Poverty Rate'])\n",
    "regress_values = weekday['2018'] * slope + intercept\n",
    "\n",
    "# Plot regression line\n",
    "plt.plot(weekday['2018'],regress_values,\"r-\")\n",
    "\n",
    "\n",
    "#finding R^2\n",
    "\n",
    "np.corrcoef(weekday.loc[:,'Poverty Rate'], regress_values)[0,1]**2\n",
    "print(f\"The r-squared is: {rvalue**2}\")\n",
    "plt.savefig('../PW_CSVs/poverty_riders_weekday')\n"
   ]
  },
  {
   "cell_type": "code",
   "execution_count": null,
   "metadata": {},
   "outputs": [],
   "source": [
    "#weekday population by ridership numbers\n",
    "plt.scatter(weekday['2018'],weekday['Population'], marker=\"o\", facecolors=\"violet\", edgecolors=\"black\",\n",
    "            alpha=0.75)\n",
    "\n",
    "plt.title(\"Population - Avg Daily Ridership (Weekdays)\")\n",
    "plt.xlabel(\"Daily Riders\")\n",
    "plt.ylabel(\"Population\")\n",
    "\n",
    "# Run linear regression\n",
    "(slope, intercept, rvalue, pvalue, stderr) = linregress(weekday['2018'], weekday['Population'])\n",
    "regress_values = weekday['2018'] * slope + intercept\n",
    "\n",
    "# Plot regression line\n",
    "plt.plot(weekday['2018'],regress_values,\"r-\")\n",
    "\n",
    "\n",
    "#finding R^2\n",
    "np.corrcoef(weekday.loc[:,'Population'], regress_values)[0,1]**2\n",
    "#print R^2\n",
    "print(f\"The r-squared is: {rvalue**2}\")\n",
    "\n",
    "#save figure\n",
    "plt.savefig('../PW_CSVs/population_riders_weekday')"
   ]
  },
  {
   "cell_type": "code",
   "execution_count": null,
   "metadata": {},
   "outputs": [],
   "source": [
    "#plot per capita income by 2018 rider numbers\n",
    "plt.scatter(weekday['2018'],weekday['Per Capita Income'], marker=\"o\", facecolors=\"violet\", edgecolors=\"black\",\n",
    "            alpha=0.75)\n",
    "\n",
    "plt.title(\"Per Capita Income - Avg Daily Ridership (Weekdays)\")\n",
    "plt.xlabel(\"Daily Riders\")\n",
    "plt.ylabel(\"Per Capita Income\")\n",
    "\n",
    "# Run linear regression\n",
    "(slope, intercept, rvalue, pvalue, stderr) = linregress(weekday['2018'], weekday['Per Capita Income'])\n",
    "regress_values = weekday['2018'] * slope + intercept\n",
    "\n",
    "# Plot regression line\n",
    "plt.plot(weekday['2018'],regress_values,\"r-\")\n",
    "\n",
    "#finding R^2\n",
    "#print R^2\n",
    "#save figure\n",
    "np.corrcoef(weekday.loc[:,'Per Capita Income'], regress_values)[0,1]**2\n",
    "print(f\"The r-squared is: {rvalue**2}\")\n",
    "plt.savefig('../PW_CSVs/income_riders_weekday')"
   ]
  },
  {
   "cell_type": "code",
   "execution_count": null,
   "metadata": {},
   "outputs": [],
   "source": [
    "#group weekend rider numbers by zip code and agg columns values to analyze\n",
    "weekend_bus = weekend_riders.drop_duplicates( subset='StopID', keep=\"first\", inplace=False)\n",
    "\n",
    "weekend = weekend_bus.groupby('Zipcode').agg({\n",
    "    'StopID':'count',\n",
    "    'ComputedStreetAddress':'count',\n",
    "    'ComputedCity':'first',\n",
    "    'Juris':'first',\n",
    "    'Day':'first',\n",
    "    'Per Capita Income': 'mean',\n",
    "    'Population': 'first',\n",
    "    'Poverty Rate': 'first',\n",
    "    '2018':'mean'\n",
    "})\n",
    "\n",
    "#plot weekend poverty rate by rider #s\n",
    "plt.scatter(weekend['2018'],weekend['Poverty Rate'], marker=\"o\", facecolors=\"violet\", edgecolors=\"black\",\n",
    "            alpha=0.75)\n",
    "\n",
    "plt.title(\"Poverty Rate - Avg Daily Ridership (Weekend)\")\n",
    "plt.xlabel(\"Daily Riders\")\n",
    "plt.ylabel(\"Poverty Rate\")\n",
    "\n",
    "# Run linear regression\n",
    "(slope, intercept, rvalue, pvalue, stderr) = linregress(weekend['2018'], weekend['Poverty Rate'])\n",
    "regress_values = weekend['2018'] * slope + intercept\n",
    "\n",
    "# Plot regression line\n",
    "plt.plot(weekend['2018'],regress_values,\"r-\")\n",
    "\n",
    "\n",
    "#finding R^2\n",
    "#print R^2\n",
    "#save figure\n",
    "np.corrcoef(weekend.loc[:,'Poverty Rate'], regress_values)[0,1]**2\n",
    "\n",
    "print(f\"The r-squared is: {rvalue**2}\")\n",
    "plt.savefig('../PW_CSVs/poverty_riders_weekend')"
   ]
  },
  {
   "cell_type": "code",
   "execution_count": null,
   "metadata": {},
   "outputs": [],
   "source": [
    "#weekend population by rider #s\n",
    "plt.scatter(weekend['2018'],weekend['Population'], marker=\"o\", facecolors=\"violet\", edgecolors=\"black\",\n",
    "            alpha=0.75)\n",
    "\n",
    "plt.title(\"Population - Avg Daily Ridership (Weekend)\")\n",
    "plt.xlabel(\"Daily Riders\")\n",
    "plt.ylabel(\"Population\")\n",
    "\n",
    "# Run linear regression\n",
    "(slope, intercept, rvalue, pvalue, stderr) = linregress(weekend['2018'], weekend['Population'])\n",
    "regress_values = weekend['2018'] * slope + intercept\n",
    "\n",
    "# Plot regression line\n",
    "plt.plot(weekend['2018'],regress_values,\"r-\")\n",
    "\n",
    "line_eq = \"y = \" + str(round(slope,2)) + \"x + \" + str(round(intercept,2))\n",
    "plt.annotate(line_eq,(6,10),fontsize=15,color=\"red\")\n",
    "\n",
    "\n",
    "#finding R^2\n",
    "#print R^2\n",
    "#save figure\n",
    "np.corrcoef(weekend.loc[:,'Population'], regress_values)[0,1]**2\n",
    "\n",
    "print(f\"The r-squared is: {rvalue**2}\")\n",
    "\n",
    "plt.savefig('../PW_CSVs/population_riders_weekend')"
   ]
  },
  {
   "cell_type": "code",
   "execution_count": null,
   "metadata": {},
   "outputs": [],
   "source": [
    "#weekend per capita income by rider numbers\n",
    "plt.scatter(weekend['2018'],weekend['Per Capita Income'], marker=\"o\", facecolors=\"violet\", edgecolors=\"black\",\n",
    "            alpha=0.75)\n",
    "\n",
    "plt.title(\"Per Capita Income - Avg Daily Ridership (Weekend)\")\n",
    "plt.xlabel(\"Daily Riders\")\n",
    "plt.ylabel(\"Per Capita Income\")\n",
    "\n",
    "# Run linear regression\n",
    "(slope, intercept, rvalue, pvalue, stderr) = linregress(weekend['2018'], weekend['Per Capita Income'])\n",
    "regress_values = weekend['2018'] * slope + intercept\n",
    "\n",
    "# Plot regression line\n",
    "plt.plot(weekend['2018'],regress_values,\"r-\")\n",
    "\n",
    "line_eq = \"y = \" + str(round(slope,2)) + \"x + \" + str(round(intercept,2))\n",
    "plt.annotate(line_eq,(6,10),fontsize=15,color=\"red\")\n",
    "\n",
    "\n",
    "#finding R^2\n",
    "#print R^2\n",
    "#save figure\n",
    "np.corrcoef(weekend.loc[:,'Per Capita Income'], regress_values)[0,1]**2\n",
    "\n",
    "print(f\"The r-squared is: {rvalue**2}\")\n",
    "\n",
    "plt.savefig('../PW_CSVs/income_riders_weekend')"
   ]
  }
 ],
 "metadata": {
  "kernelspec": {
   "display_name": "Python 3",
   "language": "python",
   "name": "python3"
  },
  "language_info": {
   "codemirror_mode": {
    "name": "ipython",
    "version": 3
   },
   "file_extension": ".py",
   "mimetype": "text/x-python",
   "name": "python",
   "nbconvert_exporter": "python",
   "pygments_lexer": "ipython3",
   "version": "3.6.10"
  }
 },
 "nbformat": 4,
 "nbformat_minor": 4
}
